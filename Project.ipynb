{
  "nbformat": 4,
  "nbformat_minor": 0,
  "metadata": {
    "colab": {
      "provenance": [],
      "authorship_tag": "ABX9TyOzygUUq72faNLdVB3/Zxbx",
      "include_colab_link": true
    },
    "kernelspec": {
      "name": "python3",
      "display_name": "Python 3"
    },
    "language_info": {
      "name": "python"
    }
  },
  "cells": [
    {
      "cell_type": "markdown",
      "metadata": {
        "id": "view-in-github",
        "colab_type": "text"
      },
      "source": [
        "<a href=\"https://colab.research.google.com/github/aditi2259/Automated-Information-Retrieval-Dashboard/blob/main/Project.ipynb\" target=\"_parent\"><img src=\"https://colab.research.google.com/assets/colab-badge.svg\" alt=\"Open In Colab\"/></a>"
      ]
    },
    {
      "cell_type": "code",
      "source": [
        "import kagglehub\n",
        "\n",
        "# Download latest version\n",
        "path = kagglehub.dataset_download(\"peopledatalabssf/free-7-million-company-dataset\")\n",
        "\n",
        "print(\"Path to dataset files:\", path)"
      ],
      "metadata": {
        "colab": {
          "base_uri": "https://localhost:8080/"
        },
        "id": "jbWF-9SQrvUY",
        "outputId": "10c24c45-898d-40bf-8478-0de76e34cfc5"
      },
      "execution_count": 1,
      "outputs": [
        {
          "output_type": "stream",
          "name": "stdout",
          "text": [
            "Downloading from https://www.kaggle.com/api/v1/datasets/download/peopledatalabssf/free-7-million-company-dataset?dataset_version_number=1...\n"
          ]
        },
        {
          "output_type": "stream",
          "name": "stderr",
          "text": [
            "100%|██████████| 278M/278M [00:03<00:00, 73.4MB/s]"
          ]
        },
        {
          "output_type": "stream",
          "name": "stdout",
          "text": [
            "Extracting files...\n"
          ]
        },
        {
          "output_type": "stream",
          "name": "stderr",
          "text": [
            "\n"
          ]
        },
        {
          "output_type": "stream",
          "name": "stdout",
          "text": [
            "Path to dataset files: /root/.cache/kagglehub/datasets/peopledatalabssf/free-7-million-company-dataset/versions/1\n"
          ]
        }
      ]
    },
    {
      "source": [
        "import pandas as pd\n",
        "import os\n",
        "import kagglehub\n",
        "\n",
        "dataset_path = kagglehub.dataset_download(\"peopledatalabssf/free-7-million-company-dataset\")\n",
        "\n",
        "for filename in os.listdir(dataset_path):\n",
        "    if filename.endswith(\".csv\"):\n",
        "        dataset_file = os.path.join(dataset_path, filename)\n",
        "        break\n",
        "else:\n",
        "    raise FileNotFoundError(\"No CSV file found in the dataset directory.\")\n",
        "\n",
        "# Load the dataset\n",
        "df = pd.read_csv(dataset_file)\n",
        "\n",
        "\n",
        "print(\"Dataset loaded successfully!\")\n",
        "print(df.head())"
      ],
      "cell_type": "code",
      "metadata": {
        "colab": {
          "base_uri": "https://localhost:8080/"
        },
        "id": "xXjjObNHtIwQ",
        "outputId": "8ca4f608-39df-4abc-d586-25e418d0fc33"
      },
      "execution_count": 2,
      "outputs": [
        {
          "output_type": "stream",
          "name": "stdout",
          "text": [
            "Dataset loaded successfully!\n",
            "   Unnamed: 0                       name         domain  year founded  \\\n",
            "0     5872184                        ibm        ibm.com        1911.0   \n",
            "1     4425416  tata consultancy services        tcs.com        1968.0   \n",
            "2       21074                  accenture  accenture.com        1989.0   \n",
            "3     2309813                    us army     goarmy.com        1800.0   \n",
            "4     1558607                         ey         ey.com        1989.0   \n",
            "\n",
            "                              industry size range  \\\n",
            "0  information technology and services     10001+   \n",
            "1  information technology and services     10001+   \n",
            "2  information technology and services     10001+   \n",
            "3                             military     10001+   \n",
            "4                           accounting     10001+   \n",
            "\n",
            "                                 locality         country  \\\n",
            "0       new york, new york, united states   united states   \n",
            "1              bombay, maharashtra, india           india   \n",
            "2                 dublin, dublin, ireland         ireland   \n",
            "3     alexandria, virginia, united states   united states   \n",
            "4  london, greater london, united kingdom  united kingdom   \n",
            "\n",
            "                                     linkedin url  current employee estimate  \\\n",
            "0                        linkedin.com/company/ibm                     274047   \n",
            "1  linkedin.com/company/tata-consultancy-services                     190771   \n",
            "2                  linkedin.com/company/accenture                     190689   \n",
            "3                    linkedin.com/company/us-army                     162163   \n",
            "4              linkedin.com/company/ernstandyoung                     158363   \n",
            "\n",
            "   total employee estimate  \n",
            "0                   716906  \n",
            "1                   341369  \n",
            "2                   455768  \n",
            "3                   445958  \n",
            "4                   428960  \n"
          ]
        }
      ]
    },
    {
      "source": [
        "!pip install streamlit"
      ],
      "cell_type": "code",
      "metadata": {
        "colab": {
          "base_uri": "https://localhost:8080/"
        },
        "id": "6ro0YUyatmED",
        "outputId": "90e76f99-ed9c-4d49-9a16-4f6e82f1e2eb"
      },
      "execution_count": 3,
      "outputs": [
        {
          "output_type": "stream",
          "name": "stdout",
          "text": [
            "Collecting streamlit\n",
            "  Downloading streamlit-1.40.1-py2.py3-none-any.whl.metadata (8.5 kB)\n",
            "Requirement already satisfied: altair<6,>=4.0 in /usr/local/lib/python3.10/dist-packages (from streamlit) (4.2.2)\n",
            "Requirement already satisfied: blinker<2,>=1.0.0 in /usr/local/lib/python3.10/dist-packages (from streamlit) (1.9.0)\n",
            "Requirement already satisfied: cachetools<6,>=4.0 in /usr/local/lib/python3.10/dist-packages (from streamlit) (5.5.0)\n",
            "Requirement already satisfied: click<9,>=7.0 in /usr/local/lib/python3.10/dist-packages (from streamlit) (8.1.7)\n",
            "Requirement already satisfied: numpy<3,>=1.20 in /usr/local/lib/python3.10/dist-packages (from streamlit) (1.26.4)\n",
            "Requirement already satisfied: packaging<25,>=20 in /usr/local/lib/python3.10/dist-packages (from streamlit) (24.2)\n",
            "Requirement already satisfied: pandas<3,>=1.4.0 in /usr/local/lib/python3.10/dist-packages (from streamlit) (2.2.2)\n",
            "Requirement already satisfied: pillow<12,>=7.1.0 in /usr/local/lib/python3.10/dist-packages (from streamlit) (11.0.0)\n",
            "Requirement already satisfied: protobuf<6,>=3.20 in /usr/local/lib/python3.10/dist-packages (from streamlit) (4.25.5)\n",
            "Requirement already satisfied: pyarrow>=7.0 in /usr/local/lib/python3.10/dist-packages (from streamlit) (17.0.0)\n",
            "Requirement already satisfied: requests<3,>=2.27 in /usr/local/lib/python3.10/dist-packages (from streamlit) (2.32.3)\n",
            "Requirement already satisfied: rich<14,>=10.14.0 in /usr/local/lib/python3.10/dist-packages (from streamlit) (13.9.4)\n",
            "Requirement already satisfied: tenacity<10,>=8.1.0 in /usr/local/lib/python3.10/dist-packages (from streamlit) (9.0.0)\n",
            "Requirement already satisfied: toml<2,>=0.10.1 in /usr/local/lib/python3.10/dist-packages (from streamlit) (0.10.2)\n",
            "Requirement already satisfied: typing-extensions<5,>=4.3.0 in /usr/local/lib/python3.10/dist-packages (from streamlit) (4.12.2)\n",
            "Requirement already satisfied: gitpython!=3.1.19,<4,>=3.0.7 in /usr/local/lib/python3.10/dist-packages (from streamlit) (3.1.43)\n",
            "Collecting pydeck<1,>=0.8.0b4 (from streamlit)\n",
            "  Downloading pydeck-0.9.1-py2.py3-none-any.whl.metadata (4.1 kB)\n",
            "Requirement already satisfied: tornado<7,>=6.0.3 in /usr/local/lib/python3.10/dist-packages (from streamlit) (6.3.3)\n",
            "Collecting watchdog<7,>=2.1.5 (from streamlit)\n",
            "  Downloading watchdog-6.0.0-py3-none-manylinux2014_x86_64.whl.metadata (44 kB)\n",
            "\u001b[2K     \u001b[90m━━━━━━━━━━━━━━━━━━━━━━━━━━━━━━━━━━━━━━━━\u001b[0m \u001b[32m44.3/44.3 kB\u001b[0m \u001b[31m2.9 MB/s\u001b[0m eta \u001b[36m0:00:00\u001b[0m\n",
            "\u001b[?25hRequirement already satisfied: entrypoints in /usr/local/lib/python3.10/dist-packages (from altair<6,>=4.0->streamlit) (0.4)\n",
            "Requirement already satisfied: jinja2 in /usr/local/lib/python3.10/dist-packages (from altair<6,>=4.0->streamlit) (3.1.4)\n",
            "Requirement already satisfied: jsonschema>=3.0 in /usr/local/lib/python3.10/dist-packages (from altair<6,>=4.0->streamlit) (4.23.0)\n",
            "Requirement already satisfied: toolz in /usr/local/lib/python3.10/dist-packages (from altair<6,>=4.0->streamlit) (0.12.1)\n",
            "Requirement already satisfied: gitdb<5,>=4.0.1 in /usr/local/lib/python3.10/dist-packages (from gitpython!=3.1.19,<4,>=3.0.7->streamlit) (4.0.11)\n",
            "Requirement already satisfied: python-dateutil>=2.8.2 in /usr/local/lib/python3.10/dist-packages (from pandas<3,>=1.4.0->streamlit) (2.8.2)\n",
            "Requirement already satisfied: pytz>=2020.1 in /usr/local/lib/python3.10/dist-packages (from pandas<3,>=1.4.0->streamlit) (2024.2)\n",
            "Requirement already satisfied: tzdata>=2022.7 in /usr/local/lib/python3.10/dist-packages (from pandas<3,>=1.4.0->streamlit) (2024.2)\n",
            "Requirement already satisfied: charset-normalizer<4,>=2 in /usr/local/lib/python3.10/dist-packages (from requests<3,>=2.27->streamlit) (3.4.0)\n",
            "Requirement already satisfied: idna<4,>=2.5 in /usr/local/lib/python3.10/dist-packages (from requests<3,>=2.27->streamlit) (3.10)\n",
            "Requirement already satisfied: urllib3<3,>=1.21.1 in /usr/local/lib/python3.10/dist-packages (from requests<3,>=2.27->streamlit) (2.2.3)\n",
            "Requirement already satisfied: certifi>=2017.4.17 in /usr/local/lib/python3.10/dist-packages (from requests<3,>=2.27->streamlit) (2024.8.30)\n",
            "Requirement already satisfied: markdown-it-py>=2.2.0 in /usr/local/lib/python3.10/dist-packages (from rich<14,>=10.14.0->streamlit) (3.0.0)\n",
            "Requirement already satisfied: pygments<3.0.0,>=2.13.0 in /usr/local/lib/python3.10/dist-packages (from rich<14,>=10.14.0->streamlit) (2.18.0)\n",
            "Requirement already satisfied: smmap<6,>=3.0.1 in /usr/local/lib/python3.10/dist-packages (from gitdb<5,>=4.0.1->gitpython!=3.1.19,<4,>=3.0.7->streamlit) (5.0.1)\n",
            "Requirement already satisfied: MarkupSafe>=2.0 in /usr/local/lib/python3.10/dist-packages (from jinja2->altair<6,>=4.0->streamlit) (3.0.2)\n",
            "Requirement already satisfied: attrs>=22.2.0 in /usr/local/lib/python3.10/dist-packages (from jsonschema>=3.0->altair<6,>=4.0->streamlit) (24.2.0)\n",
            "Requirement already satisfied: jsonschema-specifications>=2023.03.6 in /usr/local/lib/python3.10/dist-packages (from jsonschema>=3.0->altair<6,>=4.0->streamlit) (2024.10.1)\n",
            "Requirement already satisfied: referencing>=0.28.4 in /usr/local/lib/python3.10/dist-packages (from jsonschema>=3.0->altair<6,>=4.0->streamlit) (0.35.1)\n",
            "Requirement already satisfied: rpds-py>=0.7.1 in /usr/local/lib/python3.10/dist-packages (from jsonschema>=3.0->altair<6,>=4.0->streamlit) (0.21.0)\n",
            "Requirement already satisfied: mdurl~=0.1 in /usr/local/lib/python3.10/dist-packages (from markdown-it-py>=2.2.0->rich<14,>=10.14.0->streamlit) (0.1.2)\n",
            "Requirement already satisfied: six>=1.5 in /usr/local/lib/python3.10/dist-packages (from python-dateutil>=2.8.2->pandas<3,>=1.4.0->streamlit) (1.16.0)\n",
            "Downloading streamlit-1.40.1-py2.py3-none-any.whl (8.6 MB)\n",
            "\u001b[2K   \u001b[90m━━━━━━━━━━━━━━━━━━━━━━━━━━━━━━━━━━━━━━━━\u001b[0m \u001b[32m8.6/8.6 MB\u001b[0m \u001b[31m60.4 MB/s\u001b[0m eta \u001b[36m0:00:00\u001b[0m\n",
            "\u001b[?25hDownloading pydeck-0.9.1-py2.py3-none-any.whl (6.9 MB)\n",
            "\u001b[2K   \u001b[90m━━━━━━━━━━━━━━━━━━━━━━━━━━━━━━━━━━━━━━━━\u001b[0m \u001b[32m6.9/6.9 MB\u001b[0m \u001b[31m58.7 MB/s\u001b[0m eta \u001b[36m0:00:00\u001b[0m\n",
            "\u001b[?25hDownloading watchdog-6.0.0-py3-none-manylinux2014_x86_64.whl (79 kB)\n",
            "\u001b[2K   \u001b[90m━━━━━━━━━━━━━━━━━━━━━━━━━━━━━━━━━━━━━━━━\u001b[0m \u001b[32m79.1/79.1 kB\u001b[0m \u001b[31m7.2 MB/s\u001b[0m eta \u001b[36m0:00:00\u001b[0m\n",
            "\u001b[?25hInstalling collected packages: watchdog, pydeck, streamlit\n",
            "Successfully installed pydeck-0.9.1 streamlit-1.40.1 watchdog-6.0.0\n"
          ]
        }
      ]
    },
    {
      "cell_type": "code",
      "source": [
        "import streamlit as st"
      ],
      "metadata": {
        "id": "avsJQYbrtUtV"
      },
      "execution_count": 4,
      "outputs": []
    },
    {
      "cell_type": "code",
      "source": [
        "st.title(\"Company Information Retrieval Dashboard\")\n",
        "st.header(\"Dataset Preview\")\n",
        "\n",
        "# Display dataset\n",
        "st.write(\"Preview of the company dataset:\")\n",
        "st.dataframe(df)\n",
        "\n",
        "selected_column = st.selectbox(\"Select the primary column for entities\", df.columns)\n",
        "\n",
        "query_template = st.text_input(\"Enter your query template (e.g., 'Find the headquarters of {entity}')\")\n"
      ],
      "metadata": {
        "colab": {
          "base_uri": "https://localhost:8080/"
        },
        "id": "UwjBnKUZtsh9",
        "outputId": "8ee834c6-7efe-41ee-f019-139826a2966d"
      },
      "execution_count": 6,
      "outputs": [
        {
          "output_type": "stream",
          "name": "stderr",
          "text": [
            "2024-11-18 17:27:34.924 Thread 'MainThread': missing ScriptRunContext! This warning can be ignored when running in bare mode.\n",
            "2024-11-18 17:27:34.928 Thread 'MainThread': missing ScriptRunContext! This warning can be ignored when running in bare mode.\n",
            "2024-11-18 17:27:34.932 Thread 'MainThread': missing ScriptRunContext! This warning can be ignored when running in bare mode.\n",
            "2024-11-18 17:27:34.934 Thread 'MainThread': missing ScriptRunContext! This warning can be ignored when running in bare mode.\n",
            "2024-11-18 17:27:34.937 Thread 'MainThread': missing ScriptRunContext! This warning can be ignored when running in bare mode.\n",
            "2024-11-18 17:27:34.939 Thread 'MainThread': missing ScriptRunContext! This warning can be ignored when running in bare mode.\n",
            "2024-11-18 17:27:34.941 Thread 'MainThread': missing ScriptRunContext! This warning can be ignored when running in bare mode.\n",
            "2024-11-18 17:27:34.944 Thread 'MainThread': missing ScriptRunContext! This warning can be ignored when running in bare mode.\n",
            "2024-11-18 17:27:46.773 Thread 'MainThread': missing ScriptRunContext! This warning can be ignored when running in bare mode.\n",
            "2024-11-18 17:27:48.002 Thread 'MainThread': missing ScriptRunContext! This warning can be ignored when running in bare mode.\n",
            "2024-11-18 17:27:48.473 Thread 'MainThread': missing ScriptRunContext! This warning can be ignored when running in bare mode.\n",
            "2024-11-18 17:27:48.475 Thread 'MainThread': missing ScriptRunContext! This warning can be ignored when running in bare mode.\n",
            "2024-11-18 17:27:48.478 Thread 'MainThread': missing ScriptRunContext! This warning can be ignored when running in bare mode.\n",
            "2024-11-18 17:27:48.480 Thread 'MainThread': missing ScriptRunContext! This warning can be ignored when running in bare mode.\n",
            "2024-11-18 17:27:48.482 Thread 'MainThread': missing ScriptRunContext! This warning can be ignored when running in bare mode.\n",
            "2024-11-18 17:27:48.488 Thread 'MainThread': missing ScriptRunContext! This warning can be ignored when running in bare mode.\n",
            "2024-11-18 17:27:48.490 Thread 'MainThread': missing ScriptRunContext! This warning can be ignored when running in bare mode.\n",
            "2024-11-18 17:27:48.493 Thread 'MainThread': missing ScriptRunContext! This warning can be ignored when running in bare mode.\n",
            "2024-11-18 17:27:48.495 Thread 'MainThread': missing ScriptRunContext! This warning can be ignored when running in bare mode.\n",
            "2024-11-18 17:27:48.502 Thread 'MainThread': missing ScriptRunContext! This warning can be ignored when running in bare mode.\n",
            "2024-11-18 17:27:48.504 Thread 'MainThread': missing ScriptRunContext! This warning can be ignored when running in bare mode.\n",
            "2024-11-18 17:27:48.506 Thread 'MainThread': missing ScriptRunContext! This warning can be ignored when running in bare mode.\n"
          ]
        }
      ]
    },
    {
      "cell_type": "code",
      "source": [
        "import requests\n",
        "\n",
        "# using SerpAPI\n",
        "def perform_web_search(entity):\n",
        "    api_key = st.secrets[\"serpapi_key\"]\n",
        "    query = query_template.replace(\"{entity}\", entity)\n",
        "    params = {\n",
        "        \"q\": query,\n",
        "        \"api_key\": api_key,\n",
        "        \"engine\": \"google\",\n",
        "    }\n",
        "    response = requests.get(\"https://serpapi.com/search\", params=params)\n",
        "    return response.json()\n",
        "\n",
        "if st.button(\"Perform Web Search\"):\n",
        "    search_results = {}\n",
        "    for entity in df[selected_column].dropna().unique()[:10]:\n",
        "        search_results[entity] = perform_web_search(entity)\n",
        "    st.success(\"Web search completed.\")\n",
        "    st.json(search_results)\n"
      ],
      "metadata": {
        "colab": {
          "base_uri": "https://localhost:8080/"
        },
        "id": "g7AIUXebtzsf",
        "outputId": "d4df2384-7981-40fa-d93d-683b21867c48"
      },
      "execution_count": 7,
      "outputs": [
        {
          "output_type": "stream",
          "name": "stderr",
          "text": [
            "2024-11-18 17:28:17.397 Thread 'MainThread': missing ScriptRunContext! This warning can be ignored when running in bare mode.\n",
            "2024-11-18 17:28:17.400 Thread 'MainThread': missing ScriptRunContext! This warning can be ignored when running in bare mode.\n",
            "2024-11-18 17:28:17.401 Thread 'MainThread': missing ScriptRunContext! This warning can be ignored when running in bare mode.\n",
            "2024-11-18 17:28:17.403 Thread 'MainThread': missing ScriptRunContext! This warning can be ignored when running in bare mode.\n",
            "2024-11-18 17:28:17.404 Thread 'MainThread': missing ScriptRunContext! This warning can be ignored when running in bare mode.\n"
          ]
        }
      ]
    },
    {
      "cell_type": "code",
      "source": [
        "import openai\n",
        "\n",
        "# LLM parsing function\n",
        "def process_with_llm(entity, search_results):\n",
        "    api_key = st.secrets[\"openai_api_key\"]\n",
        "    prompt = f\"Extract the headquarters location for {entity} from the following search results: {search_results}\"\n",
        "    openai.api_key = api_key\n",
        "    response = openai.ChatCompletion.create(\n",
        "        model=\"gpt-4\",\n",
        "        messages=[\n",
        "            {\"role\": \"system\", \"content\": \"Extract relevant information.\"},\n",
        "            {\"role\": \"user\", \"content\": prompt}\n",
        "        ]\n",
        "    )\n",
        "    return response[\"choices\"][0][\"message\"][\"content\"]\n",
        "\n",
        "if st.button(\"Parse with LLM\"):\n",
        "    parsed_data = {}\n",
        "    for entity, results in search_results.items():\n",
        "        parsed_data[entity] = process_with_llm(entity, results)\n",
        "    st.success(\"LLM processing completed.\")\n",
        "    st.json(parsed_data)\n"
      ],
      "metadata": {
        "colab": {
          "base_uri": "https://localhost:8080/"
        },
        "id": "deyfrFEUt_7N",
        "outputId": "fbf57b5a-dbbc-4458-fe34-0d0abf2b6f1c"
      },
      "execution_count": 8,
      "outputs": [
        {
          "output_type": "stream",
          "name": "stderr",
          "text": [
            "2024-11-18 17:28:32.753 Thread 'MainThread': missing ScriptRunContext! This warning can be ignored when running in bare mode.\n",
            "2024-11-18 17:28:32.754 Thread 'MainThread': missing ScriptRunContext! This warning can be ignored when running in bare mode.\n",
            "2024-11-18 17:28:32.759 Thread 'MainThread': missing ScriptRunContext! This warning can be ignored when running in bare mode.\n",
            "2024-11-18 17:28:32.762 Thread 'MainThread': missing ScriptRunContext! This warning can be ignored when running in bare mode.\n",
            "2024-11-18 17:28:32.766 Thread 'MainThread': missing ScriptRunContext! This warning can be ignored when running in bare mode.\n"
          ]
        }
      ]
    },
    {
      "cell_type": "code",
      "source": [
        "if st.button(\"Parse with LLM\"):\n",
        "    parsed_data = {}\n",
        "    for entity, results in search_results.items():\n",
        "        parsed_data[entity] = process_with_llm(entity, results)\n",
        "    st.success(\"LLM processing completed.\")\n",
        "    st.json(parsed_data)"
      ],
      "metadata": {
        "colab": {
          "base_uri": "https://localhost:8080/"
        },
        "id": "lWKuWaFEt5Mz",
        "outputId": "e80c95c8-e66a-47c5-d4c3-fdc011d2ff2b"
      },
      "execution_count": 9,
      "outputs": [
        {
          "output_type": "stream",
          "name": "stderr",
          "text": [
            "2024-11-18 17:28:45.878 Thread 'MainThread': missing ScriptRunContext! This warning can be ignored when running in bare mode.\n",
            "2024-11-18 17:28:45.880 Thread 'MainThread': missing ScriptRunContext! This warning can be ignored when running in bare mode.\n",
            "2024-11-18 17:28:45.882 Thread 'MainThread': missing ScriptRunContext! This warning can be ignored when running in bare mode.\n",
            "2024-11-18 17:28:45.885 Thread 'MainThread': missing ScriptRunContext! This warning can be ignored when running in bare mode.\n",
            "2024-11-18 17:28:45.888 Thread 'MainThread': missing ScriptRunContext! This warning can be ignored when running in bare mode.\n"
          ]
        }
      ]
    },
    {
      "cell_type": "code",
      "source": [
        "parsed_data = {}\n"
      ],
      "metadata": {
        "id": "SG8EZobVmErR"
      },
      "execution_count": 10,
      "outputs": []
    },
    {
      "cell_type": "code",
      "source": [
        "\n",
        "if 'parsed_data' not in locals() or not parsed_data:\n",
        "    st.error(\"Parsed data is empty or not available. Please complete the earlier steps.\")\n",
        "    st.stop()\n",
        "\n",
        "# Convert parsed_data to DataFrame\n",
        "parsed_df = pd.DataFrame.from_dict(parsed_data, orient=\"index\", columns=[\"Extracted Info\"])\n",
        "\n",
        "st.write(\"Extracted Data:\")\n",
        "st.dataframe(parsed_df)\n",
        "\n",
        "# Download button for exporting the data\n",
        "csv_data = parsed_df.to_csv(index=True)\n",
        "st.download_button(\n",
        "    label=\"Download Extracted Data as CSV\",\n",
        "    data=csv_data,\n",
        "    file_name=\"extracted_data.csv\",\n",
        "    mime=\"text/csv\"\n",
        ")\n"
      ],
      "metadata": {
        "colab": {
          "base_uri": "https://localhost:8080/"
        },
        "id": "1IqZpHabmKnY",
        "outputId": "a7941676-b51c-4c22-ee23-5a1e46aa8806"
      },
      "execution_count": 11,
      "outputs": [
        {
          "output_type": "stream",
          "name": "stderr",
          "text": [
            "2024-11-18 17:29:42.502 Thread 'MainThread': missing ScriptRunContext! This warning can be ignored when running in bare mode.\n",
            "2024-11-18 17:29:42.504 Thread 'MainThread': missing ScriptRunContext! This warning can be ignored when running in bare mode.\n",
            "2024-11-18 17:29:42.506 Thread 'MainThread': missing ScriptRunContext! This warning can be ignored when running in bare mode.\n",
            "2024-11-18 17:29:42.514 Thread 'MainThread': missing ScriptRunContext! This warning can be ignored when running in bare mode.\n",
            "2024-11-18 17:29:42.516 Thread 'MainThread': missing ScriptRunContext! This warning can be ignored when running in bare mode.\n",
            "2024-11-18 17:29:42.518 Thread 'MainThread': missing ScriptRunContext! This warning can be ignored when running in bare mode.\n",
            "2024-11-18 17:29:42.519 Thread 'MainThread': missing ScriptRunContext! This warning can be ignored when running in bare mode.\n",
            "2024-11-18 17:29:42.523 Thread 'MainThread': missing ScriptRunContext! This warning can be ignored when running in bare mode.\n",
            "2024-11-18 17:29:42.524 Thread 'MainThread': missing ScriptRunContext! This warning can be ignored when running in bare mode.\n",
            "2024-11-18 17:29:42.532 Thread 'MainThread': missing ScriptRunContext! This warning can be ignored when running in bare mode.\n",
            "2024-11-18 17:29:42.534 Thread 'MainThread': missing ScriptRunContext! This warning can be ignored when running in bare mode.\n",
            "2024-11-18 17:29:42.536 Thread 'MainThread': missing ScriptRunContext! This warning can be ignored when running in bare mode.\n",
            "2024-11-18 17:29:42.537 Thread 'MainThread': missing ScriptRunContext! This warning can be ignored when running in bare mode.\n",
            "2024-11-18 17:29:42.538 Thread 'MainThread': missing ScriptRunContext! This warning can be ignored when running in bare mode.\n",
            "2024-11-18 17:29:42.541 Thread 'MainThread': missing ScriptRunContext! This warning can be ignored when running in bare mode.\n"
          ]
        },
        {
          "output_type": "execute_result",
          "data": {
            "text/plain": [
              "False"
            ]
          },
          "metadata": {},
          "execution_count": 11
        }
      ]
    },
    {
      "cell_type": "code",
      "source": [
        "# Perform Web Search Block\n",
        "if st.button(\"Perform Web Search\"):\n",
        "    if not selected_column or not query_template:\n",
        "        st.error(\"Please select a column and provide a query template.\")\n",
        "    else:\n",
        "        try:\n",
        "\n",
        "            search_results = {}\n",
        "            for entity in df[selected_column].dropna().unique()[:10]:\n",
        "                st.write(f\"Searching for: {entity}\")\n",
        "                search_results[entity] = perform_web_search(entity)\n",
        "            st.success(\"Web search completed.\")\n",
        "            st.json(search_results)\n",
        "        except Exception as e:\n",
        "            st.error(f\"An error occurred during the web search: {e}\")\n"
      ],
      "metadata": {
        "colab": {
          "base_uri": "https://localhost:8080/"
        },
        "id": "w-kG61WcmQqq",
        "outputId": "8135f46f-7f22-4c38-efaf-24ce0a83c387"
      },
      "execution_count": 12,
      "outputs": [
        {
          "output_type": "stream",
          "name": "stderr",
          "text": [
            "2024-11-18 17:30:00.256 Thread 'MainThread': missing ScriptRunContext! This warning can be ignored when running in bare mode.\n",
            "2024-11-18 17:30:00.260 Thread 'MainThread': missing ScriptRunContext! This warning can be ignored when running in bare mode.\n",
            "2024-11-18 17:30:00.262 Thread 'MainThread': missing ScriptRunContext! This warning can be ignored when running in bare mode.\n",
            "2024-11-18 17:30:00.264 Thread 'MainThread': missing ScriptRunContext! This warning can be ignored when running in bare mode.\n",
            "2024-11-18 17:30:00.267 Thread 'MainThread': missing ScriptRunContext! This warning can be ignored when running in bare mode.\n"
          ]
        }
      ]
    },
    {
      "cell_type": "code",
      "source": [
        "\n",
        "if parsed_data:\n",
        "    parsed_df = pd.DataFrame.from_dict(parsed_data, orient=\"index\", columns=[\"Extracted Info\"])\n",
        "    st.write(\"Extracted Data:\")\n",
        "    st.dataframe(parsed_df)\n",
        "\n",
        "    # Download button for results\n",
        "    st.download_button(\n",
        "        label=\"Download Extracted Data\",\n",
        "        data=parsed_df.to_csv(index=False),\n",
        "        file_name=\"extracted_data.csv\",\n",
        "        mime=\"text/csv\"\n",
        "    )\n"
      ],
      "metadata": {
        "id": "rYgPXHEloFDy"
      },
      "execution_count": 13,
      "outputs": []
    },
    {
      "cell_type": "code",
      "source": [
        "serpapi_key = \"YOUR_SERPAPI_KEY\"\n",
        "openai_api_key = \"YOUR_OPENAI_API_KEY\"\n"
      ],
      "metadata": {
        "id": "k6OWhPEqmT4j"
      },
      "execution_count": 14,
      "outputs": []
    },
    {
      "cell_type": "markdown",
      "source": [
        "testing\n"
      ],
      "metadata": {
        "id": "R9Nkcoi_orDd"
      }
    },
    {
      "cell_type": "code",
      "source": [
        "import os\n",
        "import pandas as pd\n",
        "\n",
        "# Path to dataset directory\n",
        "dataset_path = \"/root/.cache/kagglehub/datasets/peopledatalabssf/free-7-million-company-dataset/versions/1\"\n",
        "\n",
        "try:\n",
        "\n",
        "    files = os.listdir(dataset_path)\n",
        "    print(\"Files in the dataset directory:\", files)\n",
        "\n",
        "\n",
        "    dataset_file = None\n",
        "    for file in files:\n",
        "        if file.endswith(\".csv\"):\n",
        "            dataset_file = os.path.join(dataset_path, file)\n",
        "            break\n",
        "\n",
        "    if not dataset_file:\n",
        "        raise FileNotFoundError(\"No CSV file found in the dataset directory.\")\n",
        "\n",
        "    # Load the dataset\n",
        "    df = pd.read_csv(dataset_file)\n",
        "    print(\"Dataset loaded successfully! Here's a preview:\")\n",
        "    print(df.head())\n",
        "\n",
        "except Exception as e:\n",
        "    print(f\"Error loading dataset: {e}\")\n"
      ],
      "metadata": {
        "colab": {
          "base_uri": "https://localhost:8080/"
        },
        "id": "9AoR1HEtosYO",
        "outputId": "b8b85db2-5d8b-4fe1-c967-5f5f8d17f372"
      },
      "execution_count": 15,
      "outputs": [
        {
          "output_type": "stream",
          "name": "stdout",
          "text": [
            "Files in the dataset directory: ['companies_sorted.csv']\n",
            "Dataset loaded successfully! Here's a preview:\n",
            "   Unnamed: 0                       name         domain  year founded  \\\n",
            "0     5872184                        ibm        ibm.com        1911.0   \n",
            "1     4425416  tata consultancy services        tcs.com        1968.0   \n",
            "2       21074                  accenture  accenture.com        1989.0   \n",
            "3     2309813                    us army     goarmy.com        1800.0   \n",
            "4     1558607                         ey         ey.com        1989.0   \n",
            "\n",
            "                              industry size range  \\\n",
            "0  information technology and services     10001+   \n",
            "1  information technology and services     10001+   \n",
            "2  information technology and services     10001+   \n",
            "3                             military     10001+   \n",
            "4                           accounting     10001+   \n",
            "\n",
            "                                 locality         country  \\\n",
            "0       new york, new york, united states   united states   \n",
            "1              bombay, maharashtra, india           india   \n",
            "2                 dublin, dublin, ireland         ireland   \n",
            "3     alexandria, virginia, united states   united states   \n",
            "4  london, greater london, united kingdom  united kingdom   \n",
            "\n",
            "                                     linkedin url  current employee estimate  \\\n",
            "0                        linkedin.com/company/ibm                     274047   \n",
            "1  linkedin.com/company/tata-consultancy-services                     190771   \n",
            "2                  linkedin.com/company/accenture                     190689   \n",
            "3                    linkedin.com/company/us-army                     162163   \n",
            "4              linkedin.com/company/ernstandyoung                     158363   \n",
            "\n",
            "   total employee estimate  \n",
            "0                   716906  \n",
            "1                   341369  \n",
            "2                   455768  \n",
            "3                   445958  \n",
            "4                   428960  \n"
          ]
        }
      ]
    }
  ]
}